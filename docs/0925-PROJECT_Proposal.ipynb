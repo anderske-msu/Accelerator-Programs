{
 "cells": [
  {
   "cell_type": "markdown",
   "metadata": {},
   "source": [
    "# <center>  Using Machine Learning in Accelerator Optics </center>\n",
    "\n",
    "<center>By Kelly Anderson</center>"
   ]
  },
  {
   "cell_type": "markdown",
   "metadata": {},
   "source": [
    "<center><img src=\"./images/NSLS2.jpg\" width=\"100%\"><center>\n",
    "\n",
    "Image from: https://www.bnl.gov/ps/nsls2/about-nsls-ii.php"
   ]
  },
  {
   "cell_type": "markdown",
   "metadata": {},
   "source": [
    "---\n",
    "# Overview\n",
    "\n",
    "One essential part of accelerator physics is particle tracking. It's used when designing components to make sure the beam travels down the line in the desired manner. There is a lot of software that provides particle tracking for different purposes, some for designing an entire lattice others for inside a specific component. My research looks more at the mathematics that describes how the beam travels. There are complicated components that are necessary to run an accelerator and many introduce nonlinear elements to particle motion. Looking at how these particles develop in phase space can help the design of new accelerators and give information about the equations that describe them.\n",
    "\n",
    "The position of a particle is described by the translational components perpendicular to the beamline and the longitudinal component along the beam line. An optics function is one way to describe these terms at various points in an accelerator. This will be described in twiss parameters, which are a transformation of variables that is commonly used in accelerator physics. These variables are defined below. The experimental data will come from the various beam position monitors that are placed throughout the accelerator we will look at.\n",
    "\n",
    "\\begin{equation}\n",
    "    x(s) = A\\sqrt{\\beta(s)}\\cos{(\\psi(s) + \\delta)}\n",
    "\\end{equation}\n",
    "\n",
    "\\begin{equation}\n",
    "    \\alpha(s) = -\\frac{1}{2}\\frac{d\\beta(s)}{ds}\n",
    "\\end{equation}\n",
    "\n",
    "\\begin{equation}\n",
    "    \\gamma(s) = \\frac{1+\\alpha(s)^2}{\\beta(s)}\n",
    "\\end{equation}\n",
    "\n",
    "\\begin{equation}\n",
    "    \\Delta \\psi = \\int^{s_2}_{s_1} \\frac{ds}{\\beta(s)}\n",
    "\\end{equation}\n",
    "\n",
    "\\begin{equation}\n",
    "    \\nu = \\frac{1}{2\\pi} \\oint \\frac{ds}{\\beta(s)}\n",
    "\\end{equation}\n",
    "\n",
    "The focus of my research is the analysis of the phase space of the particles in an accelerator. More specifically looking for regions where orbits are stable and their frequencies as well as regions where motion is not stable and finding how quickly it decays. There are many different methods to do this analysis and as a secondary goal, this project hopes to create a basis to use machine learning as a tool in developing these models.\n",
    "\n",
    "\n",
    "\n",
    "Sources:\n",
    "\n",
    "S. Y. Lee, Accelerator Physics, 4th Edition\n",
    "\n",
    "D. A. Edwards, M. J. Syphers, An Introduction to the Physics of High Energy Accelerators"
   ]
  },
  {
   "cell_type": "markdown",
   "metadata": {},
   "source": [
    "---\n",
    "# Program Description\n",
    "\n",
    "The experimental data for the project has already been obtained by my advisor Dr. Yue Hao from the NSLS-II accelerator at Brookhaven National Laboratory. Some existing code that may be used in the project are the particle tracking software Elegant and or Madx. There is also a python library called cpymad that allows one to use Madx through python code and one is being worked on to do the same with Elegant. The NSLS-II is already modelled in Elegant and Madx.\n",
    "\n",
    "The general purpose of the program is to develop an algorithm that will develop an optics model at various turns and points in the accelerator. Some references that will be used in addition to class material are linked below. Since this information has been studied for this accelerator, it is also the goal to design this program in a modular way that will allow it to accept data from different types of accelerators so it can be applied to them.\n",
    "\n",
    "Link: https://www.deeplearningbook.org/\n",
    "\n",
    "Link: http://www.gaussianprocess.org/gpml/chapters/RW.pdf"
   ]
  },
  {
   "cell_type": "markdown",
   "metadata": {},
   "source": [
    "---\n",
    "# Project Goals and Timeline\n",
    "\n",
    "The first goal is to obtain experimental data to use in the accelerator which is discussed in more detail below. The short term goal is to have an optics function at the points where the beam is measured in the NSLS-II. A harder but still obtainable goal is to also find the betatron frequency as a function of the driving amplitude. A long term goal would be to use the techniques to develop an algorithm to analyze the phase space of a particle system, which is more directly applicable to my research.\n",
    "\n",
    "- 9/11/2020 - Create git repository\n",
    "- 9/25/2020 - Proposal Due\n",
    "- 10/09/2020 - Generate Pseudo Data\n",
    "- 11/01/2020 - Train Algorithm on known system\n",
    "- 11/06/2020 - Coding Standards and Linting\n",
    "- 11/20/2020 - Code Review\n",
    "- 12/04/2020 - Presentation Video Due\n",
    "- 12/09/2020 - Final Report and Code due."
   ]
  },
  {
   "cell_type": "markdown",
   "metadata": {},
   "source": [
    "---\n",
    "# Anticipating Challenges  \n",
    "\n",
    "The way to get experimental data is by using the data from the beam position monitors that are placed periodically in a lattice. To get a full picture though, one would want more data. One way to generate particle tracking data is by using software. This can be done in software like madx or elegant. The actual experimental data already obtained will be the primary source but pseudo experimental data can be generated by using the model already created for the lattice in this software and adding controlled errors to it.\n"
   ]
  }
 ],
 "metadata": {
  "anaconda-cloud": {},
  "kernelspec": {
   "display_name": "Python 3",
   "language": "python",
   "name": "python3"
  },
  "language_info": {
   "codemirror_mode": {
    "name": "ipython",
    "version": 3
   },
   "file_extension": ".py",
   "mimetype": "text/x-python",
   "name": "python",
   "nbconvert_exporter": "python",
   "pygments_lexer": "ipython3",
   "version": "3.6.9"
  }
 },
 "nbformat": 4,
 "nbformat_minor": 4
}
