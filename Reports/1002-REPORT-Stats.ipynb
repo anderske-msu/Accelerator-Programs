{
 "cells": [
  {
   "cell_type": "markdown",
   "metadata": {},
   "source": [
    "# <center>Using Statistical Models in Accelerator Physics</center>\n",
    "\n",
    "<center>by Kelly Anderson</center>"
   ]
  },
  {
   "cell_type": "markdown",
   "metadata": {},
   "source": [
    "Statistical methods are used a lot in accelerator physics. Even though my research focuses mostly on single-particle dynamics, accelerators are always used with many particles at once. Particles in an accelerator are sent in bunches or tight groups of particles. This is done for a few reasons, one is that when the most efficient method for accelerating particles is using radio frequency cavities. Even though they provide a large amount of acceleration they can only provide it for a finite window. The particles are sent in bunches that match these windows so they are accelerated."
   ]
  },
  {
   "cell_type": "markdown",
   "metadata": {},
   "source": [
    "Another reason is that a larger number of particles means a larger number, and more frequent, collisions, this gives more data to researchers. It is also easier to get two bunches of particles to collide than two individual particles. Bunches will also provide a number of particles from different states to collide which provides more diverse data, but that can be negative in some cases."
   ]
  },
  {
   "cell_type": "markdown",
   "metadata": {},
   "source": [
    "Because of the high number of particles, it is best to describe then bunches as a whole. This is where statistical methods come into play. One concept used often is emittance. This emittance refers to the area that a bunch of particles occupies. This could be the physical profile of the bunch or the area that the bunch covers in phase space. The emittance of a bunch has to fit in the aperture of each element which is the area in phase space in which a particle can enter the element and not be lost due to unwanted collision with the surroundings. Even though a bunch’s area in phase space is conserved in many cases, that does not mean its emittance is constant. This is because the area can take up many shapes, like galaxy looking spirals, but the general ellipse that encompasses all particles is generally the emittance that is being referred to and it can grow in size."
   ]
  },
  {
   "cell_type": "markdown",
   "metadata": {},
   "source": [
    "<center><img src=\"../docs/images/emittance.png\"></center>"
   ]
  },
  {
   "cell_type": "markdown",
   "metadata": {},
   "source": [
    "When we describe this emittance we refer to it by the statistical average of the momentum and position of all the particles. One can also look at the dynamic aperture of an entire accelerator to know how particles must enter the machine in order to remain stable in cases like storage rings. To do this we look at how each element in the machine maps particles from beginning to the end. Many common elements, like a FODO cell, will rotate the ellipse in phase space which also needs to be taken into account."
   ]
  },
  {
   "cell_type": "markdown",
   "metadata": {},
   "source": [
    "\\begin{equation}\n",
    "    \\epsilon = \\sqrt{\\langle{x^2}\\rangle \\langle{x'^2}\\rangle - \\langle{x x'}\\rangle^2}\n",
    "\\end{equation}"
   ]
  },
  {
   "cell_type": "markdown",
   "metadata": {},
   "source": [
    "Closer to my research, there are statistical methods used in analyzing particle motion. Starting from a mathematical transformation that maps the initial state of a particle to the final state one can compare that to the data from beam position monitors in the accelerator to test the accuracy of the mapping used."
   ]
  },
  {
   "cell_type": "markdown",
   "metadata": {},
   "source": [
    "---\n",
    "# References\n",
    "\n",
    "https://drive.google.com/file/d/1k5gs2YPnN-AwNJ3PK7JNBFejN91W15ln/view"
   ]
  }
 ],
 "metadata": {
  "anaconda-cloud": {},
  "kernelspec": {
   "display_name": "Python 3",
   "language": "python",
   "name": "python3"
  },
  "language_info": {
   "codemirror_mode": {
    "name": "ipython",
    "version": 3
   },
   "file_extension": ".py",
   "mimetype": "text/x-python",
   "name": "python",
   "nbconvert_exporter": "python",
   "pygments_lexer": "ipython3",
   "version": "3.8.2"
  }
 },
 "nbformat": 4,
 "nbformat_minor": 4
}
