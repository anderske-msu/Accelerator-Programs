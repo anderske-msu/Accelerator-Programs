{
 "cells": [
  {
   "cell_type": "markdown",
   "metadata": {},
   "source": [
    "# <center>Using Machine Learning (ML) in Accelerator Physics</center>\n",
    "\n",
    "<center>by Kelly Anderson</center>"
   ]
  },
  {
   "cell_type": "markdown",
   "metadata": {},
   "source": [
    "---\n",
    "Machine learning can be used in many different areas of accelerator physics. One important way would be to find the dynamic aperture of a particle accelerator. The dynamic aperture of an accelerator is the area in the XY plane that particles will not be lost in an accelerator. A common way to find it is to use tracking to find the position of a large number of particles after a set number of turns in a circular accelerator. This method is simple but quickly becomes costly in computation power as you increase the number of turns and offers no guarantee of the state of the particle after this point. Because of this, it is not possible to use tracking to find the final position for the number of turns a particle will spend in the accelerator.\n",
    "\n",
    "Another method is frequency analysis. The motion of particles in an accelerator is often chaotic, but particles will have a quasiperiodic motion which has a frequency or tune attached to the motion. Because of the nonlinear motion, this tune can shift and change by small amounts when not on a specific resonant frequency. There are methods for calculating this frequency for certain maps and particle initial conditions. This will sometimes still involve some tracking but often for a smaller number of turns and particles. The advantage comes from looking at the frequency of the particles for different initial conditions. This will be different from the frequency set initially. So the difference from the set tune is used as a condition of stability. Small differences are assumed to be more stable than larger differences. This reasonable, but not perfect, assumption gives insight into the long-term stability of the particle which makes it a more desirable method.\n",
    "\n",
    "Machine learning could be incorporated into finding the dynamic aperture in a couple of ways. One way would be to use machine learning to bypass the tracking. Simulated tracking or experimental data could be used to train a machine-learning algorithm to predict the final position of a particle for a given accelerator. The properties of tune, mapping, number of turns, and initial positions could be passed into the program and it would categorically split the different initial conditions into lost and surviving particles.\n",
    "\n",
    "One could also use a similar method to train an algorithm to find the tune of particles based on the initial conditions and mapping. This would allow performing frequency analysis without having to use tracking. These methods could generally be improved upon by finding better indicators of stability. For example, in my research, a square matrix method is used to analyze nonlinear particle motion based on a truncated power series of a map using complex variables. The stability or regularity of an orbit in this is based on the difference of the tune approximated from one part of the matrix compared to another. Getting more data from variables like this could be used to find a more accurate dynamic aperture."
   ]
  },
  {
   "cell_type": "markdown",
   "metadata": {},
   "source": [
    "---\n",
    "# References\n",
    "\n",
    "https://journals.aps.org/prab/abstract/10.1103/PhysRevAccelBeams.22.104003\n",
    "\n",
    "http://www.cpt.univ-mrs.fr/~hscopp04/Abstracts/Laskar.pdf\n",
    "\n",
    "https://www.bnl.gov/isd/documents/93411.pdf"
   ]
  }
 ],
 "metadata": {
  "anaconda-cloud": {},
  "kernelspec": {
   "display_name": "Python 3",
   "language": "python",
   "name": "python3"
  },
  "language_info": {
   "codemirror_mode": {
    "name": "ipython",
    "version": 3
   },
   "file_extension": ".py",
   "mimetype": "text/x-python",
   "name": "python",
   "nbconvert_exporter": "python",
   "pygments_lexer": "ipython3",
   "version": "3.8.5"
  }
 },
 "nbformat": 4,
 "nbformat_minor": 4
}
