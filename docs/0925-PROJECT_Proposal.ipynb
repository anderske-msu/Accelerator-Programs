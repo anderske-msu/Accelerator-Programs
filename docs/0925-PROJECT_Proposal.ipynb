{
 "cells": [
  {
   "cell_type": "markdown",
   "metadata": {},
   "source": [
    "In order to successfully complete this project milestone assignment you need to commit your proposal in markdown or ipynb format to your ```docs``` directory in your project git repository on or before **11:59pm on Friday September 25**."
   ]
  },
  {
   "cell_type": "markdown",
   "metadata": {},
   "source": [
    "# <center>  Using Machine Learning to Analyize the Phase Space of Particles in an Accelerator </center>\n",
    "\n",
    "<center>By Kelly Anderson</center>"
   ]
  },
  {
   "cell_type": "markdown",
   "metadata": {},
   "source": [
    "Replace the following with a picture that \"defines\" your project.  This could be software logo, an expected outcome of your project, or a graphical representation of the research area. \n",
    "\n",
    "<img src=\"./images/FRIB.png\" width=\"20%\">\n",
    "\n",
    "Image from: frib.msu.edu\n",
    "\n",
    "**NOTE:** This image should either be avaliable on the Internet (in which case you include the full url in the ```src``` field.  Or, the image should be added to your repository in the ```docs/images``` directory in which case the ```src``` field should be a relative path such as ```./images/myfile.png```. DO NOT use absolute paths for local files. "
   ]
  },
  {
   "cell_type": "markdown",
   "metadata": {},
   "source": [
    "---\n",
    "# Instructions\n",
    "\n",
    "Please write your proposals either in full markdown files (md) or as Jupyter notebooks (ipynb).  This notebook not only acts as instructions/outline for your proposal but should be used as a template for writing. Rename the file to something like ```proposal.md``` or ```proposal.ipynb``` and commit it to your ```docs``` folder.  **_DO NOT leave the instructions in your submitted document**. Erase all instructions and only leave the basic structure and format. Try to write the proposal to a general audience that may be interested (for example your classmates, your advisor or your lab mates).  \n",
    "\n",
    "Goal of your semester CMSE802 project is to build a library of classes and functions that can be easily adapted and used by you and other members of your lab.  Your final projects will be submitted as git repositories with everything that we did this semester.  This includes all of the following:\n",
    "\n",
    "- **REPORTS** folder with bi-weekly reports relating modeling methods to your research.\n",
    "- **PROJECT_PROPOSAL** a version of this assignment. \n",
    "- **FINAL_REPORT** Ideally the git README.md file\n",
    "- **SOFTWARE** Folder containing your software (Likely named after your software package).\n",
    "- **DOCUMENTATION** Folder containing your documentation (Likely called docs and generated using Sphinx)\n",
    "- **LICENSING** A description of how the software can be used. \n",
    "- **TESTING SOFTWARE** Some level of testing software infrastructure with tests (see description below)\n",
    "- **EXAMPLE SOFTWARE** Example data and tests (Ideally in Jupyter notebooks) that show how to run the code.\n",
    "\n",
    "It is okay if you fully do not understand the details of what is needed for your final project.  We will be going over each step throughout the semester.\n",
    "\n",
    "Most of these deliverables are based on submission requirements for the [Journal of OpenSource Software submission guildlines](https://joss.readthedocs.io/en/latest/submitting.html).  An ideal project would be one that could be submitted to JOSS.  A project accepted for publication JOSS would be an automatic A for the course. **_Note_**: it is  expected that most projects will not at the right stage of of the right type to be submittable to JOSS. However, this is the goal for which your instructor would like everyone to at least think about reaching. \n",
    "\n",
    "If you are having trouble thinking about what your project should be here are some ideas to help:\n",
    "\n",
    "- Proof of concept prototype.\n",
    "- \"Production\" code that generates publishable research data.\n",
    "- Library of methods commonly used by your group. \n",
    "- Data Workflows (data input, data conversion, data output, data exploration. visualizations).\n",
    "- Research Workflows (setting up experiments, wrapping code, scaling on the HPC, processing output).\n",
    "- Scientific Visualization (Generating complex figures or videos of your experiment).\n",
    "- Educational Materials (Introducing and explaining your research using code that can be used by students and new members of your lab). \n",
    "\n",
    "Here are some example projects you can download from previous semesters. Note these may have had slightly expectation and assignmens goals relative to your project but are representative of the types of projects that would be acceptable for this course (shared with permission by the students):\n",
    "\n",
    "- [Simple Evolutionary Exploration - By Katrina Gensterblum](https://github.com/genster6/Simple-Evolutionary-Exploration)\n",
    "- [Optimization of Hyperparameters in a Covolution Neural Network - By Cecilie Dura André](https://github.com/sille1994/Optimization-of-Hyperparameters-in-a-Convolution-Neural-Network)\n",
    "- [Neutrino Winds - By Brian Nevins](https://github.com/bnevs88/neutrino-winds)\n",
    "- [Enhanced sampling Methods - By Nicole Roussey](https://gitlab.msu.edu/roussey1/nmr_fs19_cmse802.git)\n",
    "- [Visualization of the Transport of Small Molecules on Peptides - By Xie Yan](https://gitlab.msu.edu/xieyan/yanxiecmse802.git)\n",
    "\n",
    "Even more projects (may require logging into MSU GitLab to access:\n",
    "- [Modeling Interphase Convection Heat Transfer in a Packed Bed Reactor - By Keith King](https://gitlab.msu.edu/kingkeit/porous_material_convection)\n",
    "- [Simulating carbon fluxes with a variety level of model complexity - By Meicheng Shen](https://gitlab.msu.edu/shenmeic/carbon.tree.git)\n",
    "- [Using Machine Learning for Optimal Feedback Control - By Praveen Prabhakar](https://gitlab.msu.edu/praveenp/bioproc.git)\n",
    "- [Lattice QCD Data Analysis - By Matthew Zeilbeck](https://gitlab.msu.edu/zeilbec1/zeilbec1_cmse802)\n",
    "- [A Tool for Applying Postseismic Corrections to Geodetic Data - By Connor Drooff](https://gitlab.msu.edu/drooffco/cmse-802-drooff.git)\n",
    "\n",
    "\n",
    "Please schedule a meeting with your instructors if you are having a hard time coming up with something. "
   ]
  },
  {
   "cell_type": "markdown",
   "metadata": {},
   "source": [
    "---\n",
    "# Overview\n",
    "\n",
    "One essential part of accerator physics is partacle tracking. It's used when designing components to make sure the beam travels down the line in the desired manner. There is a lot of software that provides particle tracking for different purposes, some for an designing an entire lattice others for inside a specific component. My research looks more at the mathematics at describes how the beam travels. There are complicated components that are nessesary to run an accelerator and many introduce nonlinear elements to particle motion. Looking at how these particles develope in phase space can help the design of new accelerators and give infomration about the equations that describe them.\n",
    "\n",
    "The focus of my research is the analysis of the phase space of the particles in an accelerator. More specificaly looking for regions were orbits are stable and their frequencies as well as regions where motion is not stable and finding how quickly it decays. There are many different methods to do this analysis and this project hopes to start devoping machine learning as a useful tool for developing models.\n",
    "\n",
    "This project will involve using machine learning to hopefully devope a model that will tell us more about the equations that describe the motion. It is difficult to obtain extensive data for particle motion. The way to get experimental data is by using the data from the beam position monitors that are placed periodicly in a lattice. To get a full picture though, one would want more data and at smaller intervals. One common way to generate particle tracking data is using software. This can be done in software like madx which is used in designing lattices. The goal will be to use real data from national labs as well as from software to train a program to analysize the phase space of a particular system without using tracking data."
   ]
  },
  {
   "cell_type": "markdown",
   "metadata": {},
   "source": [
    "---\n",
    "# Program Description\n",
    "\n",
    "Provide a more detailed paragraph about the Python program you will be modifying or developing as part of your project.  What components already exists and what components do you hope to add and/or improve as part of your research.\n"
   ]
  },
  {
   "cell_type": "markdown",
   "metadata": {},
   "source": [
    "---\n",
    "# Project Goals and Timeline\n",
    "\n",
    "Explain in more detail the parts of the code you are going to get working for your research.  Lay out some short term, mid-term and long term goals. As best you can, try to scope the project such that you can complete the short term and mid-term goals and if time/luck permits maybe a few of the long term goals.\n",
    "\n",
    "Note: it is expected that these goals will adjust change as things move forward.\n",
    "\n",
    "As a reminder, here are a set of dates (Approx. every other Friday) that include deliverables related to your projects. These sub-projects are designed to introduce you to useful software development tools\n",
    "\n",
    "\n",
    "\n",
    "- 9/11/2020 - Create git repository \n",
    "- 9/25/2020 - Proposal Due\n",
    "- 10/09/2020 - Stub functions and Example code integration (With documentation)\n",
    "- 10/23/2020 - Unit Test Integration\n",
    "- 11/06/2020 - Coding Standaqrds and Linting\n",
    "- 11/20/2020 - Code Review \n",
    "- 12/04/2020 - Presentation Video Due\n",
    "- 12/09/2020 - Final Report and Code due.\n",
    "\n",
    "\n"
   ]
  },
  {
   "cell_type": "markdown",
   "metadata": {},
   "source": [
    "---\n",
    "# Anticipating Challenges  \n",
    "\n",
    "One of the challenges we atticipate is the small amount of experimental data that we menthoned before. We plan on getting around this by using simulated data to help train the software.\n"
   ]
  },
  {
   "cell_type": "markdown",
   "metadata": {},
   "source": [
    "----\n",
    "\n",
    "# Proposal Grading Rubric\n",
    "The following basic grading rubric was used last semester.  It may change slightly but should give an idea of what is considered important. \n",
    "\n",
    "    Grading Overall\n",
    "    10 points - Project title\n",
    "    10 points - Descriptive picture\n",
    "    20 points - Overview\n",
    "    20 points - Program Description\n",
    "    20 points - Project Goals / Timeline\n",
    "    20 points - Anticipating Challenges\n",
    "\n",
    "    Grading Rubric\n",
    "    -5 Leaving in instructions in report.\n",
    "    -5 Sloppy formatting"
   ]
  },
  {
   "cell_type": "markdown",
   "metadata": {},
   "source": [
    "-----\n",
    "### Congratulations, you are done!\n",
    "\n",
    "Commit your proposal in markdown or ipynb format to your ```docs``` directory in your project git repository on or before **11:59pm on Friday September 25**."
   ]
  }
 ],
 "metadata": {
  "anaconda-cloud": {},
  "kernelspec": {
   "display_name": "Python 3",
   "language": "python",
   "name": "python3"
  },
  "language_info": {
   "codemirror_mode": {
    "name": "ipython",
    "version": 3
   },
   "file_extension": ".py",
   "mimetype": "text/x-python",
   "name": "python",
   "nbconvert_exporter": "python",
   "pygments_lexer": "ipython3",
   "version": "3.6.9"
  }
 },
 "nbformat": 4,
 "nbformat_minor": 4
}
