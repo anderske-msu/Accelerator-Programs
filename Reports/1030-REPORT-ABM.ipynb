{
 "cells": [
  {
   "cell_type": "markdown",
   "metadata": {},
   "source": [
    "# <center>Using Agent Based Models in Accelerator Physics</center>\n",
    "\n",
    "<center>by Kelly Anderson\n",
    "</center>"
   ]
  },
  {
   "cell_type": "markdown",
   "metadata": {},
   "source": [
    "I was unable to find any instances of agent-based models used in accelerator physics. I was able to find it used in areas of physics relating to hydrodynamics. For example, one way it is used is to look at a solute in liquids like water. The agents are the different particles and the properties of the solute and liquid can be assigned to them. One could assign a solute that is hydrophobic and see to what extent it breaks down in a solution. Another way is seeing the way that an oil and water mixture would separate themselves from each other. It can also be used in chemical reactions between many molecules to see what stable states are achieved. Hydrodynamics is not entirely related to accelerator physics but it does involve looking at the behavior of particles in complicated nonlinear systems. This to me suggests that it could be used in my area of researching nonlinear dynamics in accelerators.\n",
    "\n",
    "One important theory in my area of research is KAM theory. This originally applied to the orbit of planets but it also applies to particles in an accelerator. What it states is that the motion of particles is bound to a torus, think doughnut shape, in phase space. Applying small changes to the system (perturbations) will deform these tori. Some of these orbits do not survive this deformation and are lost, others will be deformed but remain intact. Finding out which tori remain under which perturbations is a difficult problem. \n",
    "\n",
    "This problem is important to solve because it can help determine which particles are stable over long periods of time. For systems greater than one spacial dimension these tori exist in phase space greater than four dimensions and do not restrict the motion of particles to a closed region. So it is important to know how fast these particles will diffusion out of the region where they could be lost in the accelerator. This is generally referred to as finding the dynamic aperture of an accelerator.\n",
    "\n",
    "The way I could see agent-based modeling help with this question is trying to assign different tori to be agents. One could try to figure out which properties are most important to the behavior of the tori and design a set of rules for how the tori would behave under changing conditions. Once the behavior and deformations are programmed one could see how the agents behave under the small perturbations and which ones are destroyed."
   ]
  },
  {
   "cell_type": "markdown",
   "metadata": {},
   "source": [
    "---\n",
    "# References\n",
    "\n",
    "Seybold, Paul. (2008). Agent-Based Models for Physics and Chemistry.\n",
    "\n",
    "Cincotta, Pablo. (2002). Arnold diffusion: An overview through dynamical astronomy. New Astronomy Reviews. 46. 13-39. 10.1016/S1387-6473(01)00153-1. "
   ]
  }
 ],
 "metadata": {
  "anaconda-cloud": {},
  "kernelspec": {
   "display_name": "Python 3",
   "language": "python",
   "name": "python3"
  },
  "language_info": {
   "codemirror_mode": {
    "name": "ipython",
    "version": 3
   },
   "file_extension": ".py",
   "mimetype": "text/x-python",
   "name": "python",
   "nbconvert_exporter": "python",
   "pygments_lexer": "ipython3",
   "version": "3.8.5"
  }
 },
 "nbformat": 4,
 "nbformat_minor": 4
}
