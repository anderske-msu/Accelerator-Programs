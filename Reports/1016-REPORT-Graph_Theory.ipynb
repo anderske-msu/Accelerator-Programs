{
 "cells": [
  {
   "cell_type": "markdown",
   "metadata": {},
   "source": [
    "# <center>Using Graph Theory in Accelerator Physics</center>\n",
    "\n",
    "<center>by Kelly Anderson</center>"
   ]
  },
  {
   "cell_type": "markdown",
   "metadata": {},
   "source": [
    "I was not able to find much information on graph theory being used in accelerator physics. It is used extensively in other areas of physics such as condensed matter when talking about the structure of atoms and molecules. In that case the nodes would be the atoms and the edges the bonds between them. Where I was able to find some crossover with accelerator physics was graph theory is sometimes used in statistical physics. Sometimes graphs will represent the interactions between different parts of a system. This is what I mainly focused on in terms of relating it to my research.\n",
    "\n",
    "My research has to do with the dynamics of particles in an accelerator. I often look at how the phase space of particles evolve over time. This means looking at a graph of how different starting conditions affect the position and momentum of a particle over time. There are many factors that influence this and they all affect each other in complicated ways. Some of these influences are the amplitude of the motion, the tune, and characteristics of the accelerator such as the components and if it's linear or circular. The tune is an especially important part of my research, it can be thought of as the way a particle rotates in the phase space. Certain values of tune can result in a particle's motion becoming very chaotic or result in loss of particles in the beam. So it is important to know how these things affect the overall system to make sure the accelerator works properly.\n",
    "\n",
    "For example, in a given system there are certain boundaries in phase space that particles cannot cross called KAM surfaces. Describing these boundaries is a large focus of my research. In any system that is greater than one dimension these boundaries do not form any closed volume, which means that particles may leave a region given enough time. Finding this diffusion rate is also important as some accelerators store particles for long periods of time. One could brute force some information by just tracking many particles at different initial conditions and noting which ones are lost. This isn’t feasible long term because even powerful computers aren’t able to track all the particles for the amount of time they may be in an accelerator for and some may be lost only after extremely long time periods.\n",
    "\n",
    "My idea to incorporate graph theory into my research would be to create a graph of these factors and connect them based on how strong the interaction is between them. The hope would be this would create a more visual and easier to examine representation of the interactions. I think what would help most in this case is seeing how each factor affects other influencing factors. This could also help with my machine learning project. Hopefully after I am able to develop some models, I could have it create a graph of the most important variables that influenced that specific version of the model."
   ]
  },
  {
   "cell_type": "markdown",
   "metadata": {},
   "source": [
    "---\n",
    "# References\n",
    "\n",
    "https://journals.aps.org/prab/abstract/10.1103/PhysRevAccelBeams.22.104003"
   ]
  }
 ],
 "metadata": {
  "anaconda-cloud": {},
  "kernelspec": {
   "display_name": "Python 3",
   "language": "python",
   "name": "python3"
  },
  "language_info": {
   "codemirror_mode": {
    "name": "ipython",
    "version": 3
   },
   "file_extension": ".py",
   "mimetype": "text/x-python",
   "name": "python",
   "nbconvert_exporter": "python",
   "pygments_lexer": "ipython3",
   "version": "3.8.5"
  }
 },
 "nbformat": 4,
 "nbformat_minor": 4
}
