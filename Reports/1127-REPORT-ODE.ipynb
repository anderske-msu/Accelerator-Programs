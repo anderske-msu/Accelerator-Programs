{
 "cells": [
  {
   "cell_type": "markdown",
   "metadata": {},
   "source": [
    "# <center>Using Ordinary Differential Equations (ODEs) in Accelerator Physics</center>\n",
    "\n",
    "<center>by Kelly Anderson</center>"
   ]
  },
  {
   "cell_type": "markdown",
   "metadata": {},
   "source": [
    "---\n",
    "Ordinary differential equations are used a lot in all areas of physics. Most analyses of physical systems start with some partial differential equations but can be simplified into ODEs for many situations. For example, Newton’s second law is expressed as a differential equation where F is force and p is momentum.\n",
    "<center> $\\vec{F} = \\frac{d\\vec{p}}{dt}$ </center>\n",
    "Even in modern physics, Schrodinger’s equation can be simplified into an ODE for one-dimensional time-independent systems.\n",
    "<center>$i \\hbar \\frac{\\partial}{\\partial t}\\Psi(\\mathbf{r},t) = \\hat H \\Psi(\\mathbf{r},t)$</center>\n",
    "My area of accelerator physics uses them as well. My research looks at a discrete map called the Henon Map. I usually deal with it in matrix form.\n",
    "<center>$\\begin{pmatrix}\n",
    "x_{n+1} \\\\ p_{n+1}\n",
    "\\end{pmatrix}\n",
    "=\n",
    "\\begin{pmatrix}\n",
    "\\cos{\\mu} & \\sin{\\mu} \\\\\n",
    "-\\sin{\\mu} & \\cos{\\mu}\n",
    "\\end{pmatrix}\n",
    "\\begin{pmatrix}\n",
    "x_{n} \\\\ p_{n} - x_n^2\n",
    "\\end{pmatrix}$</center>\n",
    "But this can also be expressed as a Hamiltonian. A Hamiltonian can describe the equations of motion for a system by solving two ODEs for each dimension. In fact, matrix form is found by manipulating the Hamiltonian equations.\n",
    "\n",
    "As the systems being looked at are more complex, it sometimes becomes impossible to solve analytically. This means the only way to get a solution is to solve the equations numerically. Even outside of a numerical solution, there are more methods for examining them. For example, my research involves a method for looking at the Henon map called the square matrix method. This involves truncating the power series solution to get an approximation of the map in matrix form. This map is then used to find a unitary transformation to turn the system into an action-angle system. The transformation will turn the map into an almost pure rotation in the new variables’ phase space. This provides a different way to look at the tune of a system and how it is dependent on the amplitude of the action. It can be used as an indicator of the stability of different orbits as well. This is because the action-angle variable map will look like this:\n",
    "<center>$ W = e^{i \\mu I + \\tau} W_o $</center>\n",
    "Because it is not actually a pure rotation sometimes that tune will become imaginary, which results in changes in the action. It should be small so looking at the shift at different points in the orbit results in a graph of how chaotic the motion is without looking directly at the position in real space.\n",
    "\n",
    "Another place they are used is looking at the interactions between the charged particles in a beam affect one another called the space charge effect. Beams of comprised of bunches of particles and when they are close together the electromagnetic force will cause them to repel each other. A simple description of this can be found by treating the beam as a charged cylinder and looking at the electric field produced at different points. This is actually mostly a concern at the beginning of the beam acceleration because this force will decrease as the beam becomes relativistic.\n",
    "\n"
   ]
  },
  {
   "cell_type": "markdown",
   "metadata": {},
   "source": [
    "---\n",
    "# References\n",
    "\n",
    "https://www.bnl.gov/isd/documents/93411.pdf\n",
    "\n",
    "https://indico.cern.ch/event/361988/contributions/1775745/attachments/1157672/1678600/Space_Charge_Final.pdf"
   ]
  }
 ],
 "metadata": {
  "anaconda-cloud": {},
  "kernelspec": {
   "display_name": "Python 3",
   "language": "python",
   "name": "python3"
  },
  "language_info": {
   "codemirror_mode": {
    "name": "ipython",
    "version": 3
   },
   "file_extension": ".py",
   "mimetype": "text/x-python",
   "name": "python",
   "nbconvert_exporter": "python",
   "pygments_lexer": "ipython3",
   "version": "3.8.5"
  }
 },
 "nbformat": 4,
 "nbformat_minor": 1
}
